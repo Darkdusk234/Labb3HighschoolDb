{
    "metadata": {
        "kernelspec": {
            "name": "SQL",
            "display_name": "SQL",
            "language": "sql"
        },
        "language_info": {
            "name": "sql",
            "version": ""
        }
    },
    "nbformat_minor": 2,
    "nbformat": 4,
    "cells": [
        {
            "cell_type": "markdown",
            "source": [
                "Adding more dummy data."
            ],
            "metadata": {
                "azdata_cell_guid": "ffbf31a9-60d3-4ef0-991b-87d5488cada8"
            },
            "attachments": {}
        },
        {
            "cell_type": "code",
            "source": [
                "USE Highschool\r\n",
                "\r\n",
                "INSERT INTO employee_roles(role_name) VALUES\r\n",
                "('Receptionist')\r\n",
                "\r\n",
                "INSERT INTO employees(role_id, first_name, last_name) VALUES\r\n",
                "(2, 'Maria', 'Andersson'),\r\n",
                "(3, 'Hans', 'Johansson'),\r\n",
                "(3, 'Nils', 'Fjord'),\r\n",
                "(6, 'Anna', 'Winsconsin')\r\n",
                "\r\n",
                "INSERT INTO classes(teacher_id, class_name) VALUES\r\n",
                "(8, 'NAT24'),\r\n",
                "(8, 'ENG23'),\r\n",
                "(9, 'LIN22')\r\n",
                "\r\n",
                "INSERT INTO students(class_id, first_name, last_name, social_security) VALUES\r\n",
                "(1, 'Lily', 'Night', '100823-9419'),\r\n",
                "(1, 'Xander', 'Hansson', '100312-5159'),\r\n",
                "(2, 'Willow', 'Redleaf', '090515-5136'),\r\n",
                "(2, 'Buffy', 'Summers', '090130-5954'),\r\n",
                "(3, 'Klaus', 'Fried', '110216-5131'),\r\n",
                "(4, 'Brennan', 'Mulligan', '080925-9482'),\r\n",
                "(5, 'Craig', 'Valta', '070615-0318'),\r\n",
                "(6, 'Nils', 'Song', '100224-9418'),\r\n",
                "(6, 'Vicky', 'Danvers', '100712-0415'),\r\n",
                "(7, 'Frida', 'Tidzon', '090316-8517'),\r\n",
                "(8, 'Tyler', 'Scream', '080518-4189')\r\n",
                "\r\n",
                "INSERT INTO grades(student_id, teacher_id, subject_code, student_grade, grade_set) VALUES\r\n",
                "(8, 8, 'MAT3', 'E', '2024-06-15'),\r\n",
                "(9, 8, 'SVE4', 'B', '2023-09-18'),\r\n",
                "(8, 9, 'FYS1', 'A', '2024-12-26'),\r\n",
                "(10, 9, 'MAT6', 'F', '2023-10-13'),\r\n",
                "(15, 4, 'REL2', 'C', '2024-03-04')"
            ],
            "metadata": {
                "azdata_cell_guid": "cdfed5f2-5b9c-4d3d-bce7-6ada06b77e01",
                "language": "sql"
            },
            "outputs": [
                {
                    "output_type": "display_data",
                    "data": {
                        "text/html": "(1 row affected)"
                    },
                    "metadata": {}
                },
                {
                    "output_type": "display_data",
                    "data": {
                        "text/html": "(4 rows affected)"
                    },
                    "metadata": {}
                },
                {
                    "output_type": "display_data",
                    "data": {
                        "text/html": "(3 rows affected)"
                    },
                    "metadata": {}
                },
                {
                    "output_type": "display_data",
                    "data": {
                        "text/html": "(11 rows affected)"
                    },
                    "metadata": {}
                },
                {
                    "output_type": "display_data",
                    "data": {
                        "text/html": "(5 rows affected)"
                    },
                    "metadata": {}
                },
                {
                    "output_type": "display_data",
                    "data": {
                        "text/html": "Total execution time: 00:00:00.020"
                    },
                    "metadata": {}
                }
            ],
            "execution_count": 2
        },
        {
            "cell_type": "markdown",
            "source": [
                "Updating database with new subject table to hold all different subjects."
            ],
            "metadata": {
                "language": "sql",
                "azdata_cell_guid": "79697ddc-d074-46d4-9c67-d84e93bb3b19"
            },
            "attachments": {}
        },
        {
            "cell_type": "code",
            "source": [
                "CREATE TABLE subjects(\r\n",
                "    subject_id INT IDENTITY PRIMARY KEY,\r\n",
                "    subject_code VARCHAR(50) NOT NULL,\r\n",
                "    subject_name VARCHAR(50) NOT NULL\r\n",
                ")"
            ],
            "metadata": {
                "language": "sql",
                "azdata_cell_guid": "77d6a405-1736-480a-a90d-d89a9f669a4e"
            },
            "outputs": [
                {
                    "output_type": "display_data",
                    "data": {
                        "text/html": "Commands completed successfully."
                    },
                    "metadata": {}
                },
                {
                    "output_type": "display_data",
                    "data": {
                        "text/html": "Total execution time: 00:00:00.013"
                    },
                    "metadata": {}
                }
            ],
            "execution_count": 6
        },
        {
            "cell_type": "markdown",
            "source": [
                "Adding the dummydata to the subject table"
            ],
            "metadata": {
                "language": "sql",
                "azdata_cell_guid": "3f52167c-d8bb-45de-87ff-f231e4c76d4c"
            },
            "attachments": {}
        },
        {
            "cell_type": "code",
            "source": [
                "INSERT INTO subjects(subject_code, subject_name) VALUES\r\n",
                "('MAT3', 'Matte 3'),\r\n",
                "('MAT4', 'Matte 4'),\r\n",
                "('MAT5', 'Matte 5'),\r\n",
                "('MAT6', 'Matte 6'),\r\n",
                "('MAT7', 'Matte 7'),\r\n",
                "('FYS1', 'Fysik 1'),\r\n",
                "('FYS2', 'Fysik 2'),\r\n",
                "('FYS3', 'Fysik 3'),\r\n",
                "('SVE4', 'Svenska 4'),\r\n",
                "('REL2', 'Religion 2')"
            ],
            "metadata": {
                "language": "sql",
                "azdata_cell_guid": "0b06e4d2-882a-4c9b-ab13-a129ba8a0ab6"
            },
            "outputs": [
                {
                    "output_type": "display_data",
                    "data": {
                        "text/html": "(10 rows affected)"
                    },
                    "metadata": {}
                },
                {
                    "output_type": "display_data",
                    "data": {
                        "text/html": "Total execution time: 00:00:00.006"
                    },
                    "metadata": {}
                }
            ],
            "execution_count": 7
        },
        {
            "cell_type": "markdown",
            "source": [
                "Updating grades table to add new subject\\_id column."
            ],
            "metadata": {
                "language": "sql",
                "azdata_cell_guid": "1d465cb9-4f9e-42ba-b5bf-48aae7ca0c2a"
            },
            "attachments": {}
        },
        {
            "cell_type": "code",
            "source": [
                "ALTER TABLE grades ADD subject_id INT"
            ],
            "metadata": {
                "language": "sql",
                "azdata_cell_guid": "3792ef81-400a-4b8f-a2d5-dd3426bb50c7"
            },
            "outputs": [],
            "execution_count": null
        },
        {
            "cell_type": "markdown",
            "source": [
                "Updating grades table with connection to new subjects table. Done by adding corresponding subject\\_id to subject\\_code."
            ],
            "metadata": {
                "language": "sql",
                "azdata_cell_guid": "febd8ea3-3814-4c6f-86f0-ec7f9c7fa542"
            },
            "attachments": {}
        },
        {
            "cell_type": "code",
            "source": [
                "UPDATE grades\r\n",
                "SET grades.subject_id = subjects.subject_id\r\n",
                "FROM grades g\r\n",
                "JOIN subjects ON g.subject_code = subjects.subject_code\r\n",
                "WHERE g.subject_code = subjects.subject_code"
            ],
            "metadata": {
                "language": "sql",
                "azdata_cell_guid": "d6de7171-aea0-424b-a479-73304e643688"
            },
            "outputs": [
                {
                    "output_type": "display_data",
                    "data": {
                        "text/html": "(15 rows affected)"
                    },
                    "metadata": {}
                },
                {
                    "output_type": "display_data",
                    "data": {
                        "text/html": "Total execution time: 00:00:00.007"
                    },
                    "metadata": {}
                }
            ],
            "execution_count": 14
        },
        {
            "cell_type": "markdown",
            "source": [
                "Removing depricated subject\\_code column from grades table."
            ],
            "metadata": {
                "language": "sql",
                "azdata_cell_guid": "57b9a400-3056-4e10-b70b-30b43d2a42e4"
            },
            "attachments": {}
        },
        {
            "cell_type": "code",
            "source": [
                "ALTER TABLE grades DROP COLUMN subject_code"
            ],
            "metadata": {
                "language": "sql",
                "azdata_cell_guid": "c7b568d5-5cc7-4ede-a3bd-183a93e14132"
            },
            "outputs": [
                {
                    "output_type": "display_data",
                    "data": {
                        "text/html": "Commands completed successfully."
                    },
                    "metadata": {}
                },
                {
                    "output_type": "display_data",
                    "data": {
                        "text/html": "Total execution time: 00:00:00.006"
                    },
                    "metadata": {}
                }
            ],
            "execution_count": 16
        },
        {
            "cell_type": "markdown",
            "source": [
                "Adding foreign key restraint to subject\\_id in grades table to make a connection to subject table."
            ],
            "metadata": {
                "language": "sql",
                "azdata_cell_guid": "ad3cd074-40da-4456-adb8-acbba2322477"
            },
            "attachments": {}
        },
        {
            "cell_type": "code",
            "source": [
                "ALTER TABLE grades ADD CONSTRAINT fk_subject_id FOREIGN KEY (subject_id) REFERENCES subjects(subject_id)"
            ],
            "metadata": {
                "language": "sql",
                "azdata_cell_guid": "2cabd8f7-190c-4778-8971-203084415d3b"
            },
            "outputs": [
                {
                    "output_type": "display_data",
                    "data": {
                        "text/html": "Commands completed successfully."
                    },
                    "metadata": {}
                },
                {
                    "output_type": "display_data",
                    "data": {
                        "text/html": "Total execution time: 00:00:00.011"
                    },
                    "metadata": {}
                }
            ],
            "execution_count": 19
        },
        {
            "cell_type": "markdown",
            "source": [
                "Query to add new possible\\_grades table containing the possible grades a student can get."
            ],
            "metadata": {
                "language": "sql",
                "azdata_cell_guid": "269e57c8-3e0c-4d35-86a9-23e3c520c53e"
            },
            "attachments": {}
        },
        {
            "cell_type": "code",
            "source": [
                "CREATE TABLE possible_grades(\r\n",
                "    grade_id INT IDENTITY PRIMARY KEY,\r\n",
                "    grade_letter varchar(2) NOT NULL\r\n",
                ")"
            ],
            "metadata": {
                "language": "sql",
                "azdata_cell_guid": "0c6b256d-2c37-4fb9-9682-f558ef99acce"
            },
            "outputs": [
                {
                    "output_type": "display_data",
                    "data": {
                        "text/html": "Commands completed successfully."
                    },
                    "metadata": {}
                },
                {
                    "output_type": "display_data",
                    "data": {
                        "text/html": "Total execution time: 00:00:00.024"
                    },
                    "metadata": {}
                }
            ],
            "execution_count": 23
        },
        {
            "cell_type": "markdown",
            "source": [
                "Query to add data to possible\\_grades."
            ],
            "metadata": {
                "language": "sql",
                "azdata_cell_guid": "7a925512-0ad6-4449-8017-1e846e5e54c2"
            },
            "attachments": {}
        },
        {
            "cell_type": "code",
            "source": [
                "INSERT INTO possible_grades (grade_letter) VALUES\r\n",
                "('F'),\r\n",
                "('E'),\r\n",
                "('D'),\r\n",
                "('C'),\r\n",
                "('B'),\r\n",
                "('A')"
            ],
            "metadata": {
                "language": "sql",
                "azdata_cell_guid": "7cbb3681-d1e0-4f09-85b2-d140626928a7"
            },
            "outputs": [
                {
                    "output_type": "display_data",
                    "data": {
                        "text/html": "(6 rows affected)"
                    },
                    "metadata": {}
                },
                {
                    "output_type": "display_data",
                    "data": {
                        "text/html": "Total execution time: 00:00:00.011"
                    },
                    "metadata": {}
                }
            ],
            "execution_count": 24
        },
        {
            "cell_type": "markdown",
            "source": [
                "Updating grades table to add new student\\_grade\\_id column"
            ],
            "metadata": {
                "language": "sql",
                "azdata_cell_guid": "ca6fb2c8-fef6-41da-b47d-362b608c067c"
            },
            "attachments": {}
        },
        {
            "cell_type": "code",
            "source": [
                "ALTER TABLE grades ADD student_grade_id INT"
            ],
            "metadata": {
                "language": "sql",
                "azdata_cell_guid": "4aeb1448-f062-4cf6-a929-2b1106ec5fca"
            },
            "outputs": [
                {
                    "output_type": "display_data",
                    "data": {
                        "text/html": "Commands completed successfully."
                    },
                    "metadata": {}
                },
                {
                    "output_type": "display_data",
                    "data": {
                        "text/html": "Total execution time: 00:00:00.024"
                    },
                    "metadata": {}
                }
            ],
            "execution_count": 25
        },
        {
            "cell_type": "markdown",
            "source": [
                "Updating grades table with connection to new possible\\_grades table. This is done by adding corrosponding student\\_grade\\_id to the grade they have in student\\_grade."
            ],
            "metadata": {
                "language": "sql",
                "azdata_cell_guid": "2eb90530-c9ff-4a49-90e5-ba8b1470425e"
            },
            "attachments": {}
        },
        {
            "cell_type": "code",
            "source": [
                "UPDATE grades\r\n",
                "SET grades.student_grade_id = possible_grades.grade_id\r\n",
                "FROM grades g\r\n",
                "JOIN possible_grades ON g.student_grade = possible_grades.grade_letter\r\n",
                "WHERE g.student_grade = possible_grades.grade_letter"
            ],
            "metadata": {
                "language": "sql",
                "azdata_cell_guid": "e14a4383-d7a7-41c3-be11-d22206ea3892"
            },
            "outputs": [
                {
                    "output_type": "display_data",
                    "data": {
                        "text/html": "(15 rows affected)"
                    },
                    "metadata": {}
                },
                {
                    "output_type": "display_data",
                    "data": {
                        "text/html": "Total execution time: 00:00:00.041"
                    },
                    "metadata": {}
                }
            ],
            "execution_count": 26
        },
        {
            "cell_type": "markdown",
            "source": [
                "Removing depricated student\\_grade column from grades table."
            ],
            "metadata": {
                "language": "sql",
                "azdata_cell_guid": "2e131ca4-eb64-4dde-941f-038619d2fb7f"
            },
            "attachments": {}
        },
        {
            "cell_type": "code",
            "source": [
                "ALTER TABLE grades DROP COLUMN student_grade"
            ],
            "metadata": {
                "language": "sql",
                "azdata_cell_guid": "9064e6b5-7307-42f5-b00f-dd16aa41db25"
            },
            "outputs": [
                {
                    "output_type": "display_data",
                    "data": {
                        "text/html": "Commands completed successfully."
                    },
                    "metadata": {}
                },
                {
                    "output_type": "display_data",
                    "data": {
                        "text/html": "Total execution time: 00:00:00.017"
                    },
                    "metadata": {}
                }
            ],
            "execution_count": 27
        },
        {
            "cell_type": "markdown",
            "source": [
                "Adding foreign key restraint to student\\_grade\\_id in grades table to make a connection to possible\\_grades table."
            ],
            "metadata": {
                "language": "sql",
                "azdata_cell_guid": "9339ea82-a843-484b-a2a6-163da3c188a6"
            },
            "attachments": {}
        },
        {
            "cell_type": "code",
            "source": [
                "ALTER TABLE grades ADD CONSTRAINT fk_student_grade_id FOREIGN KEY (student_grade_id) REFERENCES possible_grades(grade_id)"
            ],
            "metadata": {
                "language": "sql",
                "azdata_cell_guid": "ead06f35-582e-49c7-8988-c6a45c3a9bbe"
            },
            "outputs": [
                {
                    "output_type": "display_data",
                    "data": {
                        "text/html": "Commands completed successfully."
                    },
                    "metadata": {}
                },
                {
                    "output_type": "display_data",
                    "data": {
                        "text/html": "Total execution time: 00:00:00.045"
                    },
                    "metadata": {}
                }
            ],
            "execution_count": 28
        },
        {
            "cell_type": "markdown",
            "source": [
                "Query to get all employees."
            ],
            "metadata": {
                "language": "sql",
                "azdata_cell_guid": "ee6651c6-59ff-45a4-a06c-fa92c823d97a"
            },
            "attachments": {}
        },
        {
            "cell_type": "code",
            "source": [
                "SELECT\r\n",
                "employees.first_name + ' ' + employees.last_name AS 'Employee Name',\r\n",
                "employee_roles.role_name\r\n",
                "FROM employees\r\n",
                "JOIN employee_roles ON employees.role_id = employee_roles.role_id"
            ],
            "metadata": {
                "language": "sql",
                "azdata_cell_guid": "b59e89f8-750a-4c5b-a5d1-a722917a132a"
            },
            "outputs": [
                {
                    "output_type": "display_data",
                    "data": {
                        "text/html": "(11 rows affected)"
                    },
                    "metadata": {}
                },
                {
                    "output_type": "display_data",
                    "data": {
                        "text/html": "Total execution time: 00:00:00.012"
                    },
                    "metadata": {}
                },
                {
                    "output_type": "execute_result",
                    "metadata": {},
                    "execution_count": 31,
                    "data": {
                        "application/vnd.dataresource+json": {
                            "schema": {
                                "fields": [
                                    {
                                        "name": "Employee Name"
                                    },
                                    {
                                        "name": "role_name"
                                    }
                                ]
                            },
                            "data": [
                                {
                                    "Employee Name": "Lasse Andersson",
                                    "role_name": "Rektor"
                                },
                                {
                                    "Employee Name": "Sara Sjögren",
                                    "role_name": "Administratör"
                                },
                                {
                                    "Employee Name": "Anna Melin",
                                    "role_name": "Lärare"
                                },
                                {
                                    "Employee Name": "Lars Havreson",
                                    "role_name": "Lärare"
                                },
                                {
                                    "Employee Name": "Birgitta Gunnarson",
                                    "role_name": "Vaktmästare"
                                },
                                {
                                    "Employee Name": "Markus Svensson",
                                    "role_name": "Skolsjuksköterska"
                                },
                                {
                                    "Employee Name": "Maria Andersson",
                                    "role_name": "Administratör"
                                },
                                {
                                    "Employee Name": "Hans Johansson",
                                    "role_name": "Lärare"
                                },
                                {
                                    "Employee Name": "Nils Fjord",
                                    "role_name": "Lärare"
                                },
                                {
                                    "Employee Name": "Anna Winsconsin",
                                    "role_name": "Receptionist"
                                },
                                {
                                    "Employee Name": "Ferdinand Brookes",
                                    "role_name": "Receptionist"
                                }
                            ]
                        },
                        "text/html": [
                            "<table>",
                            "<tr><th>Employee Name</th><th>role_name</th></tr>",
                            "<tr><td>Lasse Andersson</td><td>Rektor</td></tr>",
                            "<tr><td>Sara Sjögren</td><td>Administratör</td></tr>",
                            "<tr><td>Anna Melin</td><td>Lärare</td></tr>",
                            "<tr><td>Lars Havreson</td><td>Lärare</td></tr>",
                            "<tr><td>Birgitta Gunnarson</td><td>Vaktmästare</td></tr>",
                            "<tr><td>Markus Svensson</td><td>Skolsjuksköterska</td></tr>",
                            "<tr><td>Maria Andersson</td><td>Administratör</td></tr>",
                            "<tr><td>Hans Johansson</td><td>Lärare</td></tr>",
                            "<tr><td>Nils Fjord</td><td>Lärare</td></tr>",
                            "<tr><td>Anna Winsconsin</td><td>Receptionist</td></tr>",
                            "<tr><td>Ferdinand Brookes</td><td>Receptionist</td></tr>",
                            "</table>"
                        ]
                    }
                }
            ],
            "execution_count": 31
        },
        {
            "cell_type": "markdown",
            "source": [
                "Query to get all employees with a certain role. To get other roles change Lärare to a role in employee\\_roles table."
            ],
            "metadata": {
                "language": "sql",
                "azdata_cell_guid": "893fb824-1302-4236-b928-a7104f79650f"
            },
            "attachments": {}
        },
        {
            "cell_type": "code",
            "source": [
                "SELECT\r\n",
                "employees.first_name + ' ' + employees.last_name AS 'Employee Name',\r\n",
                "employee_roles.role_name\r\n",
                "FROM employees\r\n",
                "JOIN employee_roles ON employees.role_id = employee_roles.role_id\r\n",
                "WHERE employee_roles.role_name = 'Lärare'"
            ],
            "metadata": {
                "language": "sql",
                "azdata_cell_guid": "c6c82d95-6284-4dc4-98b7-f61bf3c1f921"
            },
            "outputs": [
                {
                    "output_type": "display_data",
                    "data": {
                        "text/html": "(4 rows affected)"
                    },
                    "metadata": {}
                },
                {
                    "output_type": "display_data",
                    "data": {
                        "text/html": "Total execution time: 00:00:00.014"
                    },
                    "metadata": {}
                },
                {
                    "output_type": "execute_result",
                    "metadata": {},
                    "execution_count": 32,
                    "data": {
                        "application/vnd.dataresource+json": {
                            "schema": {
                                "fields": [
                                    {
                                        "name": "Employee Name"
                                    },
                                    {
                                        "name": "role_name"
                                    }
                                ]
                            },
                            "data": [
                                {
                                    "Employee Name": "Anna Melin",
                                    "role_name": "Lärare"
                                },
                                {
                                    "Employee Name": "Lars Havreson",
                                    "role_name": "Lärare"
                                },
                                {
                                    "Employee Name": "Hans Johansson",
                                    "role_name": "Lärare"
                                },
                                {
                                    "Employee Name": "Nils Fjord",
                                    "role_name": "Lärare"
                                }
                            ]
                        },
                        "text/html": [
                            "<table>",
                            "<tr><th>Employee Name</th><th>role_name</th></tr>",
                            "<tr><td>Anna Melin</td><td>Lärare</td></tr>",
                            "<tr><td>Lars Havreson</td><td>Lärare</td></tr>",
                            "<tr><td>Hans Johansson</td><td>Lärare</td></tr>",
                            "<tr><td>Nils Fjord</td><td>Lärare</td></tr>",
                            "</table>"
                        ]
                    }
                }
            ],
            "execution_count": 32
        },
        {
            "cell_type": "markdown",
            "source": [
                "Query to get the grades set during the last month."
            ],
            "metadata": {
                "language": "sql",
                "azdata_cell_guid": "45025213-887f-4d4d-b54f-67080f1e5182"
            },
            "attachments": {}
        },
        {
            "cell_type": "code",
            "source": [
                "SELECT\r\n",
                "students.first_name + ' ' + students.last_name AS studentfullname,\r\n",
                "subjects.subject_name,\r\n",
                "possible_grades.grade_letter\r\n",
                "FROM grades\r\n",
                "JOIN students ON grades.student_id = students.student_id\r\n",
                "JOIN subjects ON grades.subject_id = subjects.subject_id\r\n",
                "JOIN possible_grades ON grades.student_grade_id = possible_grades.grade_id\r\n",
                "where datediff(month, grades.grade_set, getdate()) = 1"
            ],
            "metadata": {
                "language": "sql",
                "azdata_cell_guid": "d08ad31a-a63a-4abf-a834-3acc5dd34fd8",
                "tags": []
            },
            "outputs": [
                {
                    "output_type": "display_data",
                    "data": {
                        "text/html": "(4 rows affected)"
                    },
                    "metadata": {}
                },
                {
                    "output_type": "display_data",
                    "data": {
                        "text/html": "Total execution time: 00:00:00.037"
                    },
                    "metadata": {}
                },
                {
                    "output_type": "execute_result",
                    "metadata": {},
                    "execution_count": 29,
                    "data": {
                        "application/vnd.dataresource+json": {
                            "schema": {
                                "fields": [
                                    {
                                        "name": "studentfullname"
                                    },
                                    {
                                        "name": "subject_name"
                                    },
                                    {
                                        "name": "grade_letter"
                                    }
                                ]
                            },
                            "data": [
                                {
                                    "studentfullname": "Mark Brightson",
                                    "subject_name": "Matte 5",
                                    "grade_letter": "A"
                                },
                                {
                                    "studentfullname": "Vicky Handy",
                                    "subject_name": "Matte 4",
                                    "grade_letter": "B"
                                },
                                {
                                    "studentfullname": "Vicky Handy",
                                    "subject_name": "Matte 6",
                                    "grade_letter": "C"
                                },
                                {
                                    "studentfullname": "Lily Night",
                                    "subject_name": "Fysik 1",
                                    "grade_letter": "A"
                                }
                            ]
                        },
                        "text/html": [
                            "<table>",
                            "<tr><th>studentfullname</th><th>subject_name</th><th>grade_letter</th></tr>",
                            "<tr><td>Mark Brightson</td><td>Matte 5</td><td>A</td></tr>",
                            "<tr><td>Vicky Handy</td><td>Matte 4</td><td>B</td></tr>",
                            "<tr><td>Vicky Handy</td><td>Matte 6</td><td>C</td></tr>",
                            "<tr><td>Lily Night</td><td>Fysik 1</td><td>A</td></tr>",
                            "</table>"
                        ]
                    }
                }
            ],
            "execution_count": 29
        },
        {
            "cell_type": "markdown",
            "source": [
                "Query to get all subjects with mediangrade, highest and lowest grade in those subjects."
            ],
            "metadata": {
                "language": "sql",
                "azdata_cell_guid": "34186550-daa7-4d42-8a6d-7f1609c161ec"
            },
            "attachments": {}
        },
        {
            "cell_type": "code",
            "source": [
                "DECLARE @AverageGrade INT\r\n",
                "SELECT\r\n",
                "subjects.subject_name,\r\n",
                "CASE CAST(ROUND(AVG(CAST(grades.student_grade_id AS DECIMAL (3,2))), 0) AS INT)\r\n",
                "    WHEN 6 THEN 'A'\r\n",
                "    WHEN 5 THEN 'B'\r\n",
                "    WHEN 4 THEN 'C'\r\n",
                "    WHEN 3 THEN 'D'\r\n",
                "    WHEN 2 THEN 'E'\r\n",
                "    WHEN 1 THEN 'F'\r\n",
                "END AS 'Average Grade',\r\n",
                "CASE MAX(grades.student_grade_id) \r\n",
                "    WHEN 6 THEN 'A'\r\n",
                "    WHEN 5 THEN 'B'\r\n",
                "    WHEN 4 THEN 'C'\r\n",
                "    WHEN 3 THEN 'D'\r\n",
                "    WHEN 2 THEN 'E'\r\n",
                "    WHEN 1 THEN 'F'\r\n",
                "END AS 'Highest Grade',\r\n",
                "CASE MIN(grades.student_grade_id) \r\n",
                "    WHEN 6 THEN 'A'\r\n",
                "    WHEN 5 THEN 'B'\r\n",
                "    WHEN 4 THEN 'C'\r\n",
                "    WHEN 3 THEN 'D'\r\n",
                "    WHEN 2 THEN 'E'\r\n",
                "    WHEN 1 THEN 'F'\r\n",
                "END AS 'Lowest Grade'\r\n",
                "FROM grades\r\n",
                "JOIN subjects ON subjects.subject_id = grades.subject_id\r\n",
                "GROUP BY subjects.subject_name"
            ],
            "metadata": {
                "language": "sql",
                "azdata_cell_guid": "b52ad57d-735c-41cc-9e27-981b40815aaf"
            },
            "outputs": [
                {
                    "output_type": "display_data",
                    "data": {
                        "text/html": "(9 rows affected)"
                    },
                    "metadata": {}
                },
                {
                    "output_type": "display_data",
                    "data": {
                        "text/html": "Total execution time: 00:00:00.012"
                    },
                    "metadata": {}
                },
                {
                    "output_type": "execute_result",
                    "metadata": {},
                    "execution_count": 102,
                    "data": {
                        "application/vnd.dataresource+json": {
                            "schema": {
                                "fields": [
                                    {
                                        "name": "subject_name"
                                    },
                                    {
                                        "name": "Average Grade"
                                    },
                                    {
                                        "name": "Highest Grade"
                                    },
                                    {
                                        "name": "Lowest Grade"
                                    }
                                ]
                            },
                            "data": [
                                {
                                    "subject_name": "Fysik 1",
                                    "Average Grade": "A",
                                    "Highest Grade": "A",
                                    "Lowest Grade": "B"
                                },
                                {
                                    "subject_name": "Fysik 3",
                                    "Average Grade": "C",
                                    "Highest Grade": "C",
                                    "Lowest Grade": "C"
                                },
                                {
                                    "subject_name": "Matte 3",
                                    "Average Grade": "C",
                                    "Highest Grade": "A",
                                    "Lowest Grade": "E"
                                },
                                {
                                    "subject_name": "Matte 4",
                                    "Average Grade": "B",
                                    "Highest Grade": "B",
                                    "Lowest Grade": "B"
                                },
                                {
                                    "subject_name": "Matte 5",
                                    "Average Grade": "A",
                                    "Highest Grade": "A",
                                    "Lowest Grade": "A"
                                },
                                {
                                    "subject_name": "Matte 6",
                                    "Average Grade": "D",
                                    "Highest Grade": "C",
                                    "Lowest Grade": "F"
                                },
                                {
                                    "subject_name": "Matte 7",
                                    "Average Grade": "A",
                                    "Highest Grade": "A",
                                    "Lowest Grade": "A"
                                },
                                {
                                    "subject_name": "Religion 2",
                                    "Average Grade": "D",
                                    "Highest Grade": "C",
                                    "Lowest Grade": "E"
                                },
                                {
                                    "subject_name": "Svenska 4",
                                    "Average Grade": "C",
                                    "Highest Grade": "B",
                                    "Lowest Grade": "D"
                                }
                            ]
                        },
                        "text/html": [
                            "<table>",
                            "<tr><th>subject_name</th><th>Average Grade</th><th>Highest Grade</th><th>Lowest Grade</th></tr>",
                            "<tr><td>Fysik 1</td><td>A</td><td>A</td><td>B</td></tr>",
                            "<tr><td>Fysik 3</td><td>C</td><td>C</td><td>C</td></tr>",
                            "<tr><td>Matte 3</td><td>C</td><td>A</td><td>E</td></tr>",
                            "<tr><td>Matte 4</td><td>B</td><td>B</td><td>B</td></tr>",
                            "<tr><td>Matte 5</td><td>A</td><td>A</td><td>A</td></tr>",
                            "<tr><td>Matte 6</td><td>D</td><td>C</td><td>F</td></tr>",
                            "<tr><td>Matte 7</td><td>A</td><td>A</td><td>A</td></tr>",
                            "<tr><td>Religion 2</td><td>D</td><td>C</td><td>E</td></tr>",
                            "<tr><td>Svenska 4</td><td>C</td><td>B</td><td>D</td></tr>",
                            "</table>"
                        ]
                    }
                }
            ],
            "execution_count": 102
        },
        {
            "cell_type": "markdown",
            "source": [
                "Query to add new students. Social security is written in the format YYMMDD-XXXX. To add a student add the required data into the parentheses."
            ],
            "metadata": {
                "language": "sql",
                "azdata_cell_guid": "757f5740-a454-415b-b41a-62035d13e992"
            },
            "attachments": {}
        },
        {
            "cell_type": "code",
            "source": [
                "INSERT INTO students (class_id, first_name, last_name, social_security)\r\n",
                "()"
            ],
            "metadata": {
                "language": "sql",
                "azdata_cell_guid": "4f6d1ae7-af97-4c15-9588-a91d4aceae72"
            },
            "outputs": [],
            "execution_count": null
        },
        {
            "cell_type": "markdown",
            "source": [
                ""
            ],
            "metadata": {
                "language": "sql",
                "azdata_cell_guid": "b4d156f8-af0e-4465-a415-0ebb00c079f0"
            }
        }
    ]
}